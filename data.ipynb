{
 "cells": [
  {
   "cell_type": "code",
   "id": "initial_id",
   "metadata": {
    "collapsed": true,
    "ExecuteTime": {
     "end_time": "2025-07-25T09:59:36.017326Z",
     "start_time": "2025-07-25T09:59:36.008264Z"
    }
   },
   "source": [
    "import pandas as pd\n",
    "\n",
    "data = pd.read_csv('summative/data/nigeria_traffic_data.csv')"
   ],
   "outputs": [],
   "execution_count": 4
  },
  {
   "metadata": {
    "ExecuteTime": {
     "end_time": "2025-07-25T10:18:32.473147Z",
     "start_time": "2025-07-25T10:18:32.463956Z"
    }
   },
   "cell_type": "code",
   "source": "print(data.head(20))",
   "id": "3fbab8600f12ad99",
   "outputs": [
    {
     "name": "stdout",
     "output_type": "stream",
     "text": [
      "           Source    Destination  Road Length (km) Congestion Level  \\\n",
      "0           Lagos         Kaduna        772.262244              Low   \n",
      "1           Lagos           Kano        989.642155           Medium   \n",
      "2   Port Harcourt            Jos        749.665038           Medium   \n",
      "3             Jos     Benin City        694.319965           Medium   \n",
      "4           Lagos          Enugu        558.684404              Low   \n",
      "5      Benin City  Port Harcourt        285.483218           Medium   \n",
      "6   Port Harcourt           Kano       1035.643893           Medium   \n",
      "7             Jos          Abuja        232.623612             High   \n",
      "8      Benin City            Jos        694.722628             High   \n",
      "9             Jos         Ibadan        831.543971             High   \n",
      "10          Abuja         Ibadan        621.453446             High   \n",
      "11         Ibadan           Kano        863.350313           Medium   \n",
      "12          Abuja           Kano        422.733380           Medium   \n",
      "13           Kano         Kaduna        236.466712           Medium   \n",
      "14            Jos     Benin City        694.319965              Low   \n",
      "15            Jos  Port Harcourt        756.550337             High   \n",
      "16         Ibadan           Kano        863.350313             High   \n",
      "17          Abuja          Enugu        365.950705              Low   \n",
      "18     Benin City         Ibadan        288.223862              Low   \n",
      "19     Benin City         Ibadan        288.223862             High   \n",
      "\n",
      "    Average Speed (km/h)  Travel Time (min) Weather  Alternative Routes  \\\n",
      "0                  92.37             501.65  Cloudy                   2   \n",
      "1                  90.90             653.26   Rainy                   2   \n",
      "2                  72.01             624.64   Foggy                   0   \n",
      "3                  74.94             555.87  Cloudy                   2   \n",
      "4                  82.89             404.41   Clear                   1   \n",
      "5                  62.39             274.55  Cloudy                   0   \n",
      "6                  76.82             808.93  Cloudy                   3   \n",
      "7                  64.08             217.80   Rainy                   1   \n",
      "8                  75.52             551.95   Foggy                   0   \n",
      "9                  82.63             603.83   Foggy                   2   \n",
      "10                 89.57             416.30   Foggy                   2   \n",
      "11                 89.04             581.74   Clear                   1   \n",
      "12                 78.67             322.40   Foggy                   1   \n",
      "13                 78.23             181.36  Cloudy                   0   \n",
      "14                 74.94             555.87   Foggy                   2   \n",
      "15                 72.67             624.63   Rainy                   1   \n",
      "16                 89.04             581.74   Foggy                   2   \n",
      "17                 64.12             342.42   Foggy                   1   \n",
      "18                 77.21             223.98   Foggy                   1   \n",
      "19                 77.21             223.98  Cloudy                   2   \n",
      "\n",
      "    Suitability Score  \n",
      "0                5.76  \n",
      "1                4.79  \n",
      "2                3.21  \n",
      "3                8.48  \n",
      "4                3.93  \n",
      "5                8.87  \n",
      "6                8.20  \n",
      "7                8.50  \n",
      "8                4.64  \n",
      "9                3.82  \n",
      "10               5.51  \n",
      "11               9.27  \n",
      "12               5.80  \n",
      "13               3.48  \n",
      "14               8.72  \n",
      "15               4.30  \n",
      "16               9.05  \n",
      "17               4.10  \n",
      "18               4.75  \n",
      "19               5.51  \n"
     ]
    }
   ],
   "execution_count": 8
  }
 ],
 "metadata": {
  "kernelspec": {
   "display_name": "Python 3",
   "language": "python",
   "name": "python3"
  },
  "language_info": {
   "codemirror_mode": {
    "name": "ipython",
    "version": 2
   },
   "file_extension": ".py",
   "mimetype": "text/x-python",
   "name": "python",
   "nbconvert_exporter": "python",
   "pygments_lexer": "ipython2",
   "version": "2.7.6"
  }
 },
 "nbformat": 4,
 "nbformat_minor": 5
}
